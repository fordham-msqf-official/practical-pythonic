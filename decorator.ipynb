{
 "cells": [
  {
   "cell_type": "markdown",
   "metadata": {},
   "source": [
    "# Decorator Pattern vs Decorator in Python\n",
    "- **The Decorator Pattern**: A design pattern that allows behavior to be added to an individual object, dynamically, without affecting the behavior of other objects from the same class. [Decorator pattern from WikiPedia][1]\n",
    "\n",
    "[1]: <https://en.wikipedia.org/wiki/Decorator_pattern> \"Decorator\"\n",
    "- **Decorator in Python**: They are functions which modify the functionality of other functions. They help to make our code shorter and more Pythonic. \n",
    "\n",
    "\n",
    "## 1. Basic decorator"
   ]
  },
  {
   "cell_type": "code",
   "execution_count": 57,
   "metadata": {},
   "outputs": [],
   "source": [
    "from functools import wraps\n",
    "# Add a, b. We will add a logging functionality to it using decorator\n",
    "def add(a, b):\n",
    "    return a + b\n",
    "\n",
    "# Decorator\n",
    "def log(func):\n",
    "    @wraps(func)\n",
    "    def decorator(*arg):\n",
    "        print(\"logging: Start add {} and {}\".format(arg[0], arg[1]))\n",
    "        return func(*arg)\n",
    "    return decorator"
   ]
  },
  {
   "cell_type": "code",
   "execution_count": 58,
   "metadata": {},
   "outputs": [
    {
     "name": "stdout",
     "output_type": "stream",
     "text": [
      "Result before decorating: 3\n"
     ]
    }
   ],
   "source": [
    "print(\"Result before decorating: {}\".format(add(1,2)))"
   ]
  },
  {
   "cell_type": "code",
   "execution_count": 59,
   "metadata": {},
   "outputs": [],
   "source": [
    "@log\n",
    "def add(a, b):\n",
    "    return a + b"
   ]
  },
  {
   "cell_type": "code",
   "execution_count": 65,
   "metadata": {},
   "outputs": [
    {
     "name": "stdout",
     "output_type": "stream",
     "text": [
      "default logger: Start add 1 and 2\n",
      "Result after decorating: 3\n"
     ]
    }
   ],
   "source": [
    "print(\"Result after decorating: {}\".format(add(1,2)))"
   ]
  },
  {
   "cell_type": "markdown",
   "metadata": {},
   "source": [
    "### 1.1. @ is a semantic sugar for Decorator\n",
    "- Decorating function by passing it as an object\n",
    "        \n",
    "        def func():\n",
    "            # do something here\n",
    "        func = decorator(func)\n",
    "- Effectively equal to above\n",
    "        \n",
    "        @decorator\n",
    "        def func():\n",
    "            # do something here"
   ]
  },
  {
   "cell_type": "markdown",
   "metadata": {},
   "source": [
    "### 1.2. Why use @wraps from functools\n",
    "- <https://stackoverflow.com/questions/308999/what-does-functools-wraps-do>\n",
    "\n",
    "## 2. Decorator with parameter"
   ]
  },
  {
   "cell_type": "code",
   "execution_count": 61,
   "metadata": {},
   "outputs": [
    {
     "name": "stdout",
     "output_type": "stream",
     "text": [
      "Result before decorating: 3\n"
     ]
    }
   ],
   "source": [
    "def add(a, b):\n",
    "    return a + b\n",
    "\n",
    "print(\"Result before decorating: {}\".format(add(1,2)))"
   ]
  },
  {
   "cell_type": "code",
   "execution_count": 64,
   "metadata": {},
   "outputs": [
    {
     "name": "stdout",
     "output_type": "stream",
     "text": [
      "default logger: Start add 1 and 2\n",
      "Result after decorating: 3\n"
     ]
    }
   ],
   "source": [
    "# Decorator kept logging functionality \n",
    "# plus a customized logger name parameter\n",
    "def log(logger_name=\"default\"):\n",
    "    def inner(func):\n",
    "        @wraps(func)\n",
    "        def decorator(*arg):\n",
    "            print(\"{} logger: Start add {} and {}\".\\\n",
    "                  format(logger_name, arg[0], arg[1]))\n",
    "            return func(*arg)\n",
    "        return decorator\n",
    "    return inner\n",
    "\n",
    "# Decorating with default parameter value\n",
    "@log()\n",
    "def add(a, b):\n",
    "    return a + b\n",
    "\n",
    "print(\"Result after decorating: {}\".format(add(1,2)))"
   ]
  },
  {
   "cell_type": "code",
   "execution_count": 56,
   "metadata": {},
   "outputs": [
    {
     "name": "stdout",
     "output_type": "stream",
     "text": [
      "__Main__ logger: Start add 1 and 2\n",
      "Result after decorating: 3\n"
     ]
    }
   ],
   "source": [
    "# Decorating with customized parameter parameter \"__Main__\"\n",
    "@log(logger_name=\"__Main__\")\n",
    "def add(a, b):\n",
    "    return a + b\n",
    "\n",
    "print(\"Result after decorating: {}\".format(add(1,2)))"
   ]
  },
  {
   "cell_type": "markdown",
   "metadata": {},
   "source": [
    "## 3. Decorating use class decorator"
   ]
  },
  {
   "cell_type": "markdown",
   "metadata": {},
   "source": [
    "## 4. Decorating class"
   ]
  },
  {
   "cell_type": "code",
   "execution_count": null,
   "metadata": {},
   "outputs": [],
   "source": []
  }
 ],
 "metadata": {
  "kernelspec": {
   "display_name": "Python 3",
   "language": "python",
   "name": "python3"
  },
  "language_info": {
   "codemirror_mode": {
    "name": "ipython",
    "version": 3
   },
   "file_extension": ".py",
   "mimetype": "text/x-python",
   "name": "python",
   "nbconvert_exporter": "python",
   "pygments_lexer": "ipython3",
   "version": "3.6.5"
  }
 },
 "nbformat": 4,
 "nbformat_minor": 2
}
