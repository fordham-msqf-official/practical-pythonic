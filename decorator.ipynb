{
 "cells": [
  {
   "cell_type": "markdown",
   "metadata": {},
   "source": [
    "# Decorator Pattern vs Decorator in Python\n",
    "- **The Decorator Pattern**: A design pattern that allows behavior to be added to an individual object, dynamically, without affecting the behavior of other objects from the same class. [Decorator pattern from WikiPedia][1]\n",
    "\n",
    "[1]: <https://en.wikipedia.org/wiki/Decorator_pattern> \"Decorator\"\n",
    "- **Decorator in Python**: They are functions which modify the functionality of other functions. They help to make our code shorter and more Pythonic. \n",
    "\n",
    "\n",
    "## 1. Basic decorator"
   ]
  },
  {
   "cell_type": "code",
   "execution_count": 1,
   "metadata": {},
   "outputs": [],
   "source": [
    "from functools import wraps\n",
    "# Add a, b. We will add a logging functionality to it using decorator\n",
    "def add(a, b):\n",
    "    return a + b\n",
    "\n",
    "# Decorator\n",
    "def log(func):\n",
    "    @wraps(func)\n",
    "    def decorator(*arg):\n",
    "        print(\"logging: Start add {} and {}\".format(arg[0], arg[1]))\n",
    "        return func(*arg)\n",
    "    return decorator"
   ]
  },
  {
   "cell_type": "code",
   "execution_count": 2,
   "metadata": {},
   "outputs": [
    {
     "name": "stdout",
     "output_type": "stream",
     "text": [
      "Result before decorating: 3\n"
     ]
    }
   ],
   "source": [
    "print(\"Result before decorating: {}\".format(add(1,2)))"
   ]
  },
  {
   "cell_type": "code",
   "execution_count": 3,
   "metadata": {},
   "outputs": [],
   "source": [
    "@log\n",
    "def add(a, b):\n",
    "    return a + b"
   ]
  },
  {
   "cell_type": "code",
   "execution_count": 4,
   "metadata": {},
   "outputs": [
    {
     "name": "stdout",
     "output_type": "stream",
     "text": [
      "logging: Start add 1 and 2\n",
      "Result after decorating: 3\n"
     ]
    }
   ],
   "source": [
    "print(\"Result after decorating: {}\".format(add(1,2)))"
   ]
  },
  {
   "cell_type": "markdown",
   "metadata": {},
   "source": [
    "### 1.1. @ is a semantic sugar for Decorator\n",
    "- Decorating function by passing it as an object\n",
    "        \n",
    "        def func():\n",
    "            # do something here\n",
    "        func = decorator(func)\n",
    "- Effectively equal to above\n",
    "        \n",
    "        @decorator\n",
    "        def func():\n",
    "            # do something here"
   ]
  },
  {
   "cell_type": "markdown",
   "metadata": {},
   "source": [
    "### 1.2. Why use @wraps from functools\n",
    "- <https://stackoverflow.com/questions/308999/what-does-functools-wraps-do>\n",
    "\n",
    "## 2. Decorator with parameter"
   ]
  },
  {
   "cell_type": "code",
   "execution_count": 5,
   "metadata": {},
   "outputs": [
    {
     "name": "stdout",
     "output_type": "stream",
     "text": [
      "Result before decorating: 3\n"
     ]
    }
   ],
   "source": [
    "def add(a, b):\n",
    "    return a + b\n",
    "\n",
    "print(\"Result before decorating: {}\".format(add(1,2)))"
   ]
  },
  {
   "cell_type": "code",
   "execution_count": 6,
   "metadata": {},
   "outputs": [
    {
     "name": "stdout",
     "output_type": "stream",
     "text": [
      "default logger: Start add 1 and 2\n",
      "Result after decorating: 3\n"
     ]
    }
   ],
   "source": [
    "# Decorator kept logging functionality \n",
    "# plus a customized logger name parameter\n",
    "def log(logger_name=\"default\"):\n",
    "    def inner(func):\n",
    "        @wraps(func)\n",
    "        def decorator(*arg):\n",
    "            print(\"{} logger: Start add {} and {}\".\\\n",
    "                  format(logger_name, arg[0], arg[1]))\n",
    "            return func(*arg)\n",
    "        return decorator\n",
    "    return inner\n",
    "\n",
    "# Decorating with default parameter value\n",
    "@log()\n",
    "def add(a, b):\n",
    "    return a + b\n",
    "\n",
    "print(\"Result after decorating: {}\".format(add(1,2)))"
   ]
  },
  {
   "cell_type": "code",
   "execution_count": 7,
   "metadata": {},
   "outputs": [
    {
     "name": "stdout",
     "output_type": "stream",
     "text": [
      "__Main__ logger: Start add 1 and 2\n",
      "Result after decorating: 3\n"
     ]
    }
   ],
   "source": [
    "# Decorating with customized parameter parameter \"__Main__\"\n",
    "@log(logger_name=\"__Main__\")\n",
    "def add(a, b):\n",
    "    return a + b\n",
    "\n",
    "print(\"Result after decorating: {}\".format(add(1,2)))"
   ]
  },
  {
   "cell_type": "markdown",
   "metadata": {},
   "source": [
    "## 3. Decorating use class decorator\n",
    "### 3.0. Basic example (`__call__`)"
   ]
  },
  {
   "cell_type": "code",
   "execution_count": 8,
   "metadata": {},
   "outputs": [
    {
     "name": "stdout",
     "output_type": "stream",
     "text": [
      "Called func with args: (1, 2)\n"
     ]
    }
   ],
   "source": [
    "class decorator(object):\n",
    "    def __init__(self, func):\n",
    "        self.func = func\n",
    "\n",
    "    def __call__(self, *args):\n",
    "        print('Called {func} with args: {args}'.format(func=self.func.__name__, args=args))\n",
    "        return self.func(*args)\n",
    "\n",
    "@decorator\n",
    "def func(x,y):\n",
    "    return x,y\n",
    "\n",
    "if __name__ == '__main__':\n",
    "    func(1,2)"
   ]
  },
  {
   "cell_type": "markdown",
   "metadata": {},
   "source": [
    "### 3.1. Property Example (`__get__`, `__set__`)"
   ]
  },
  {
   "cell_type": "code",
   "execution_count": 9,
   "metadata": {},
   "outputs": [
    {
     "name": "stdout",
     "output_type": "stream",
     "text": [
      "Called property from {instance}  of <class '__main__.Apple'>\n",
      "Accessing get_color property\n",
      "red\n",
      "Setting up {'shape': 'triangle'} for <__main__.Apple object at 0x7ffa74b68e48>\n",
      "triangle\n"
     ]
    }
   ],
   "source": [
    "class property_(object):\n",
    "    def __init__(self, func):\n",
    "        self.func = func\n",
    "        self.name = func.__name__\n",
    "\n",
    "    def __get__(self, instance, cls):\n",
    "        print(\n",
    "            'Called property from {instance} ',\n",
    "            'of {klass}'.format(instance=instance, klass=cls)\n",
    "        )\n",
    "        return self.func(instance)\n",
    "\n",
    "    def __set__(self, obj, value):\n",
    "        print(\n",
    "            'Setting up {value} '\n",
    "            'for {obj}'.format(value=value, obj=obj)\n",
    "        )\n",
    "        [setattr(obj, k, v) for k, v in value.items()]\n",
    "\n",
    "\n",
    "class Apple(object):\n",
    "\n",
    "    @property_\n",
    "    def get_color(self):\n",
    "        print('Accessing get_color property')\n",
    "        return 'red'\n",
    "\n",
    "if __name__ == '__main__':\n",
    "    apple = Apple()\n",
    "    print(apple.get_color)\n",
    "    apple.get_color = {'shape':'triangle'}\n",
    "    print(apple.shape)"
   ]
  },
  {
   "cell_type": "markdown",
   "metadata": {},
   "source": [
    "## 4. Decorating class (decorating all functions in a class at once)"
   ]
  },
  {
   "cell_type": "code",
   "execution_count": 10,
   "metadata": {},
   "outputs": [
    {
     "name": "stdout",
     "output_type": "stream",
     "text": [
      "decorating\n",
      "starting timer\n",
      "entering a\n",
      "exiting a\n",
      "Elapsed Time = 0:00:03.000675\n"
     ]
    }
   ],
   "source": [
    "import time\n",
    "import datetime                 \n",
    "\n",
    "def time_this(original_function):      \n",
    "    print(\"decorating\")\n",
    "    def new_function(*args, **kwargs):\n",
    "        print(\"starting timer\")\n",
    "        before = datetime.datetime.now()                     \n",
    "        x = original_function(*args, **kwargs)                \n",
    "        after = datetime.datetime.now()                      \n",
    "        print(\"Elapsed Time = {0}\".format(after - before))\n",
    "        return x                                             \n",
    "    return new_function  \n",
    "\n",
    "def time_all_class_methods(Cls):\n",
    "    class NewCls(object):\n",
    "        def __init__(self,*args,**kwargs):\n",
    "            self.oInstance = Cls(*args,**kwargs)\n",
    "        def __getattribute__(self,s):\n",
    "            \"\"\"\n",
    "            this is called whenever any attribute of a NewCls object is accessed. This function first tries to \n",
    "            get the attribute off NewCls. If it fails then it tries to fetch the attribute from self.oInstance (an\n",
    "            instance of the decorated class). If it manages to fetch the attribute from self.oInstance, and \n",
    "            the attribute is an instance method then `time_this` is applied.\n",
    "            \"\"\"\n",
    "            try:    \n",
    "                x = super(NewCls, self).__getattribute__(s)\n",
    "            except AttributeError:      \n",
    "                pass\n",
    "            else:\n",
    "                return x\n",
    "            x = self.oInstance.__getattribute__(s)\n",
    "            if type(x) == type(self.__init__):  # it is an instance method\n",
    "                return time_this(x)  # this is equivalent of just decorating the method with time_this\n",
    "            else:\n",
    "                return x\n",
    "    return NewCls\n",
    "\n",
    "#now lets make a dummy class to test it out on:\n",
    "@time_all_class_methods\n",
    "class Foo(object):\n",
    "    def a(self):\n",
    "        print(\"entering a\")\n",
    "        time.sleep(3)\n",
    "        print(\"exiting a\")\n",
    "\n",
    "oF = Foo()\n",
    "oF.a()"
   ]
  }
 ],
 "metadata": {
  "kernelspec": {
   "display_name": "Python 3",
   "language": "python",
   "name": "python3"
  },
  "language_info": {
   "codemirror_mode": {
    "name": "ipython",
    "version": 3
   },
   "file_extension": ".py",
   "mimetype": "text/x-python",
   "name": "python",
   "nbconvert_exporter": "python",
   "pygments_lexer": "ipython3",
   "version": "3.6.5"
  }
 },
 "nbformat": 4,
 "nbformat_minor": 2
}
