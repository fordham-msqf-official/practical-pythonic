{
 "cells": [
  {
   "cell_type": "markdown",
   "metadata": {},
   "source": [
    "# Write CSV file"
   ]
  },
  {
   "cell_type": "code",
   "execution_count": 1,
   "metadata": {},
   "outputs": [],
   "source": [
    "import csv"
   ]
  },
  {
   "cell_type": "code",
   "execution_count": 2,
   "metadata": {},
   "outputs": [],
   "source": [
    "# create new file in UTF-8 mode for special characters (larger char set)\n",
    "with open('file_name.csv', 'w', newline='\\n', encoding='utf-8') as csv_file:  \n",
    "    writer = csv.writer(csv_file, delimiter=',')  # initialize writer\n",
    "    rows = ['Hello', 'World']  # things to write\n",
    "    writer.writerow(rows) \n",
    "    rows = ['ABC', 'DEF']  # things to write\n",
    "    writer.writerow(rows)      "
   ]
  }
 ],
 "metadata": {
  "kernelspec": {
   "display_name": "Python 3",
   "language": "python",
   "name": "python3"
  },
  "language_info": {
   "codemirror_mode": {
    "name": "ipython",
    "version": 3
   },
   "file_extension": ".py",
   "mimetype": "text/x-python",
   "name": "python",
   "nbconvert_exporter": "python",
   "pygments_lexer": "ipython3",
   "version": "3.7.3"
  }
 },
 "nbformat": 4,
 "nbformat_minor": 2
}
