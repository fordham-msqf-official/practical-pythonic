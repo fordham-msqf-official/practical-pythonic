{
 "cells": [
  {
   "cell_type": "markdown",
   "metadata": {},
   "source": [
    "# Decorator @functools.lru_cache(maxsize=128, typed=False)\n",
    "- Decorator to wrap a function with a memoizing callable that saves up to the maxsize most recent calls. [Documentation: lru_cache][1] \n",
    "[1]: <https://docs.python.org/3/library/functools.html>"
   ]
  },
  {
   "cell_type": "code",
   "execution_count": 1,
   "metadata": {},
   "outputs": [],
   "source": [
    "from functools import lru_cache\n",
    "from time import perf_counter"
   ]
  },
  {
   "cell_type": "markdown",
   "metadata": {},
   "source": [
    "## 1. Fibonacci comparison\n",
    "\n",
    "### 1.a. Without `@lru_cache`"
   ]
  },
  {
   "cell_type": "code",
   "execution_count": 2,
   "metadata": {},
   "outputs": [
    {
     "name": "stdout",
     "output_type": "stream",
     "text": [
      "Fibonacci of 30 is 832040\n",
      "Time spent without @lru_cache: 0.31634560199927364\n"
     ]
    }
   ],
   "source": [
    "def fib(n):\n",
    "    if n < 2: return n\n",
    "    return fib(n-1) + fib(n-2)\n",
    "\n",
    "val = 30\n",
    "start = perf_counter()\n",
    "print(\"Fibonacci of {} is {}\".format(val, fib(val)))\n",
    "print(\"Time spent without @lru_cache: {}\".format(perf_counter() - start))"
   ]
  },
  {
   "cell_type": "markdown",
   "metadata": {},
   "source": [
    "### 1.b. With `@lru_cache`"
   ]
  },
  {
   "cell_type": "code",
   "execution_count": 3,
   "metadata": {},
   "outputs": [
    {
     "name": "stdout",
     "output_type": "stream",
     "text": [
      "Fibonacci of 30 is 832040\n",
      "Time spent with @lru_cache: 0.00028506499984359834\n",
      "\n",
      "Cache before clear: CacheInfo(hits=28, misses=31, maxsize=32, currsize=31)\n",
      "Cache after clear: CacheInfo(hits=0, misses=0, maxsize=32, currsize=0)\n"
     ]
    }
   ],
   "source": [
    "# Best practice is to keep 'maxsize' as power of 2\n",
    "@lru_cache(maxsize=32)\n",
    "def fib(n):\n",
    "    if n < 2: return n\n",
    "    return fib(n-1) + fib(n-2)\n",
    "\n",
    "val = 30\n",
    "start = perf_counter()\n",
    "print(\"Fibonacci of {} is {}\".format(val, fib(val)))\n",
    "print(\"Time spent with @lru_cache: {}\\n\".format(perf_counter() - start))\n",
    "print(\"Cache before clear: {}\".format(fib.cache_info()))\n",
    "fib.cache_clear()\n",
    "print(\"Cache after clear: {}\".format(fib.cache_info()))"
   ]
  },
  {
   "cell_type": "markdown",
   "metadata": {},
   "source": [
    "## 2. How it works (example)\n",
    "- `hits`: Number of calls to cache\n",
    "- `misses`: Number of calls that didn't hit cache\n",
    "- `maxsize`: Cache maxsize. If set to None, the LRU feature is disabled and the cache can grow without bound.\n",
    "- `currsize`: Current used cache size"
   ]
  },
  {
   "cell_type": "code",
   "execution_count": 4,
   "metadata": {},
   "outputs": [
    {
     "name": "stdout",
     "output_type": "stream",
     "text": [
      "CacheInfo(hits=3, misses=8, maxsize=16, currsize=8)\n"
     ]
    }
   ],
   "source": [
    "@lru_cache(maxsize=16)\n",
    "def get_num(num):\n",
    "    return num\n",
    "\n",
    "# len(arr) == 11\n",
    "# 8 appeared 2 times, call cache value 1 time\n",
    "# 3 appeared 3 times, call cache value 2 times\n",
    "# Cache hits = 1 + 2 = 3\n",
    "# misses = total_number_of_func_call - hits = 11 - 3 = 8\n",
    "arr = [8, 1, 2, 3, 8, 4, 5, 3, 6, 7, 3]  \n",
    "for n in arr:\n",
    "    get_num(n)\n",
    "\n",
    "print(get_num.cache_info())"
   ]
  }
 ],
 "metadata": {
  "kernelspec": {
   "display_name": "Python 3",
   "language": "python",
   "name": "python3"
  },
  "language_info": {
   "codemirror_mode": {
    "name": "ipython",
    "version": 3
   },
   "file_extension": ".py",
   "mimetype": "text/x-python",
   "name": "python",
   "nbconvert_exporter": "python",
   "pygments_lexer": "ipython3",
   "version": "3.6.5"
  }
 },
 "nbformat": 4,
 "nbformat_minor": 2
}
