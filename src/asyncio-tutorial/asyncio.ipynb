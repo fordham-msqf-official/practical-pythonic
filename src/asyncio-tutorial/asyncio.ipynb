{
 "cells": [
  {
   "cell_type": "markdown",
   "metadata": {},
   "source": [
    "**NOTE: Examples are in asyncio-tutorial directory**\n",
    "\n",
    "### 0. asyncio\n",
    "- A library to write concurrent code using the async/await syntax.\n",
    "\n",
    "### 1. What is **Event Loop**\n",
    "- Responsible for getting items from an event queue and handling it\n",
    "\n",
    "### 2. What is **Cooperative Multitasking**\n",
    "1. Tasks suspend themselves to allow others run\n",
    "2. Event loop resumes the task when the IO operation completes\n",
    "3. Task => Coroutines\n",
    "    \n",
    "### 3. What is `async`\n",
    "- async: Indicates a function is a coroutine function\n",
    "\n",
    "### 4. What is `await`\n",
    "- await: Indicates awaitables\n",
    "\n",
    "### 5. What is **Awaitable**\n",
    "- We say that an object is an awaitable object if it can be used in an `await` expression. Many asyncio APIs are designed to accept awaitables.\n",
    "- There are 3 types of awaitables: Coroutine, Future, Task\n",
    "\n",
    "### 6. What is **Future**\n",
    "- Future manages the execution and represents the eventual result of a computation\n",
    "- `await future`: Pause execution until future is done\n",
    "\n",
    "### 7. What is **Task**\n",
    "- A subclass of Future that is used to wrap and manage the execution of a coroutine in an event loop\n",
    "- Create a task: \n",
    "    - `asyncio.ensure_future(coroutine_or_future, *, loop=None)`\n",
    "    - `AbstractEventLoop.create_task(coroutine)`\n",
    "    \n",
    "### 8. What is **Coroutine**\n",
    "- Routines(certain operation) that run cooperatively\n",
    "- Coroutines are a general control structure whereby flow control is cooperatively passed between two different routines without returning.\n",
    "- Coroutines is declared with async/await syntax\n",
    "    \n",
    "### 9. Understand which **coroutine**  you are talking about\n",
    "- Coroutine function: an async def function\n",
    "- Coroutine object: an object returned by calling a coroutine function\n",
    "    \n",
    "### 10. What is **coroutine chaining**\n",
    "- Coroutine Chaining: A coroutine awaiting another coroutine\n",
    "- Time cost on chaining coroutines is the sum of each coroutine in the chain\n",
    "\n",
    "    \n",
    "### 11. Coroutine vs Thread\n",
    "- Conceptually (or literally, in a multiprocessor machine), a program with threads runs several threads in parallel. \n",
    "- Coroutines are collaborative: at any given time, a program with coroutines is running only one of its coroutines, and this running coroutine suspends its execution only when it explicitly requests to be suspended.\n",
    "\n",
    "### 12. When to use `ascynio` or Coroutine\n",
    "- CPU Bound => Multi Processing\n",
    "- I/O Bound, Fast I/O, Limited Number of Connections => Multi Threading\n",
    "- I/O Bound, Slow I/O, Many connections => Asyncio\n",
    "- http://masnun.rocks/2016/10/06/async-python-the-different-forms-of-concurrency/"
   ]
  },
  {
   "cell_type": "code",
   "execution_count": null,
   "metadata": {},
   "outputs": [],
   "source": []
  }
 ],
 "metadata": {
  "kernelspec": {
   "display_name": "Python 3",
   "language": "python",
   "name": "python3"
  },
  "language_info": {
   "codemirror_mode": {
    "name": "ipython",
    "version": 3
   },
   "file_extension": ".py",
   "mimetype": "text/x-python",
   "name": "python",
   "nbconvert_exporter": "python",
   "pygments_lexer": "ipython3",
   "version": "3.6.8"
  }
 },
 "nbformat": 4,
 "nbformat_minor": 2
}
