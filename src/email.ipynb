{
 "cells": [
  {
   "cell_type": "markdown",
   "metadata": {},
   "source": [
    "# 1. Simple Gmail message with Python\n",
    "- Context Manager (with) style SMTP with simple message using Gmail"
   ]
  },
  {
   "cell_type": "code",
   "execution_count": null,
   "metadata": {},
   "outputs": [],
   "source": [
    "import smtplib, ssl\n",
    "from getpass import getpass  # Input method for password\n",
    "\n",
    "sender_email = \"sender_email@gmail.com\"\n",
    "password = getpass(\"Type your password and press enter: \")\n",
    "receiver_email = \"receiver_email@yahoo.com\"\n",
    "port = 465  # For SSL\n",
    "context = ssl.create_default_context()  # Create a secure SSL context\n",
    "message = \"Hello\"\n",
    "\n",
    "# Context Manager: Pythonic Way of sending email\n",
    "with smtplib.SMTP_SSL(\"smtp.gmail.com\", port, context=context) as server:\n",
    "    server.login(sender_email, password)  # log in gmail\n",
    "    server.sendmail(sender_email, receiver_email, message)  # Send email here"
   ]
  },
  {
   "cell_type": "markdown",
   "metadata": {},
   "source": [
    "# 2. Send email using company mail server with .zip file as attachment\n",
    "- **MIME**: Multipurpose Internet Mail Extensions. A more rich email type, where you can include picture, files etc.\n",
    "- Show case how to send email without Context Manager (Context Manager is recommmended for Pythonic practice)\n",
    "- Following is an example when you sending email with .zip file attachment from your company email server"
   ]
  },
  {
   "cell_type": "code",
   "execution_count": null,
   "metadata": {},
   "outputs": [],
   "source": [
    "from email import encoders\n",
    "from email.mime.base import MIMEBase\n",
    "from email.mime.multipart import MIMEMultipart\n",
    "from email.mime.text import MIMEText"
   ]
  },
  {
   "cell_type": "code",
   "execution_count": null,
   "metadata": {},
   "outputs": [],
   "source": [
    "# Set up email server, sender, receiver, subject\n",
    "server = smtplib.SMTP_SSL('smtp_server_of_your_company.com')\n",
    "sender_email = 'your_email@company.com'\n",
    "receiver_email = ['list_of_receivers_email@company.com']\n",
    "subject = 'Email Subject'"
   ]
  },
  {
   "cell_type": "code",
   "execution_count": null,
   "metadata": {},
   "outputs": [],
   "source": [
    "# Create MIMEMultipart. MIMEMultipart will be the object that we used to send email\n",
    "msg = MIMEMultipart()\n",
    "msg['From'], msg['To'], msg['Subject'] = sender_email, str(receiver_email), subject\n",
    "\n",
    "# Create body and attach to MIMEMultipart\n",
    "body = 'Email Body Paragraph.'\n",
    "mime_body = MIMEText(body, 'plain')\n",
    "msg.attach(mime_body)"
   ]
  },
  {
   "cell_type": "code",
   "execution_count": null,
   "metadata": {},
   "outputs": [],
   "source": [
    "# Get all zip files in current directory\n",
    "# Encode it using base64, so that it will be loaded to MIME\n",
    "zip_file_list = [f for f in os.listdir('.') if f[-3:] == \"zip\"]\n",
    "for zip_file in zip_file_list:\n",
    "    part = MIMEBase('application', 'zip')  # Notify it's a zip file\n",
    "    attachment = open(zip_file, 'rb')  # Open this file\n",
    "    part.set_payload(attachment.read())  # Sed payload as zip file\n",
    "    encoders.encode_base64(part)  # Encode base64\n",
    "    part.add_header('Content-Disposition', 'attachment; filename=' + zip_file)  # Add header to MIMEBase object"
   ]
  },
  {
   "cell_type": "code",
   "execution_count": null,
   "metadata": {},
   "outputs": [],
   "source": [
    "final_message = msg.as_string()  # Convert MIMEMultipart to string\n",
    "server.sendmail(from_addr=sender_email, to_addrs=to_addrs, msg=final_message)  # Send email\n",
    "server.quit()  # This will be automatically called by server"
   ]
  }
 ],
 "metadata": {
  "kernelspec": {
   "display_name": "Python 3",
   "language": "python",
   "name": "python3"
  },
  "language_info": {
   "codemirror_mode": {
    "name": "ipython",
    "version": 3
   },
   "file_extension": ".py",
   "mimetype": "text/x-python",
   "name": "python",
   "nbconvert_exporter": "python",
   "pygments_lexer": "ipython3",
   "version": "3.6.8"
  }
 },
 "nbformat": 4,
 "nbformat_minor": 2
}
