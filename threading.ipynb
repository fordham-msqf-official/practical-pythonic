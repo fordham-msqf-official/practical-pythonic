{
 "cells": [
  {
   "cell_type": "markdown",
   "metadata": {},
   "source": [
    "# threading"
   ]
  },
  {
   "cell_type": "code",
   "execution_count": 1,
   "metadata": {},
   "outputs": [],
   "source": [
    "import threading"
   ]
  },
  {
   "cell_type": "markdown",
   "metadata": {},
   "source": [
    "## 1. Use Thread as a worker"
   ]
  },
  {
   "cell_type": "code",
   "execution_count": 2,
   "metadata": {},
   "outputs": [],
   "source": [
    "def do_some_work(val):\n",
    "    print(\"Doing some work in thread\")\n",
    "    print(\"echo: {}\".format(val))\n",
    "    return"
   ]
  },
  {
   "cell_type": "code",
   "execution_count": 3,
   "metadata": {},
   "outputs": [
    {
     "name": "stdout",
     "output_type": "stream",
     "text": [
      "Doing some work in thread\n",
      "echo: Hello World\n",
      "Doing some work in thread\n",
      "echo: Goodbye World\n"
     ]
    }
   ],
   "source": [
    "val1 = \"Hello World\"\n",
    "val2 = \"Goodbye World\"\n",
    "# Create threads (workers in this senario)\n",
    "t1 = threading.Thread(target=do_some_work, args=(val1,))\n",
    "t2 = threading.Thread(target=do_some_work, args=(val2,))\n",
    "# Start worker\n",
    "t1.start()\n",
    "t2.start()\n",
    "# Prevent execution until both workers finished their jobs\n",
    "t1.join()\n",
    "t2.join()"
   ]
  },
  {
   "cell_type": "markdown",
   "metadata": {},
   "source": [
    "## 2. Use Thread as work unit (class/object)\n",
    "- Use inheritance"
   ]
  },
  {
   "cell_type": "code",
   "execution_count": 4,
   "metadata": {},
   "outputs": [],
   "source": [
    "class FibonacciThread(threading.Thread):\n",
    "    def __init__(self, num):\n",
    "        super().__init__()\n",
    "        self.num = num\n",
    "    \n",
    "    def run(self):\n",
    "        fib = [0] * (self.num + 1)\n",
    "        fib[0] = 0\n",
    "        fib[1] = 1\n",
    "        for i in range(2, self.num + 1):\n",
    "            fib[i] = fib[i - 1] + fib[i - 2]\n",
    "        print(fib[self.num])"
   ]
  },
  {
   "cell_type": "code",
   "execution_count": 5,
   "metadata": {},
   "outputs": [
    {
     "name": "stdout",
     "output_type": "stream",
     "text": [
      "34\n",
      "144\n"
     ]
    }
   ],
   "source": [
    "myFibTask1 = FibonacciThread(9)\n",
    "myFibTask2 = FibonacciThread(12)\n",
    "\n",
    "myFibTask1.start()\n",
    "myFibTask2.start()\n",
    "\n",
    "myFibTask1.join()\n",
    "myFibTask2.join()"
   ]
  },
  {
   "cell_type": "markdown",
   "metadata": {},
   "source": [
    "### 2.0. threading.run() vs threading.start()\n",
    "- Invoking start() will create a new thread and execute run() in this new thread. \n",
    "- Invoking run() yourself will execute it in the current thread itself. Execution of run() will not switch to a different thread. So it will execute its actions on the main thread itself.\n",
    "- Overwrite run() if you want to modify thread behavior\n",
    "- Always call start() since it will actually start a new thread"
   ]
  },
  {
   "cell_type": "markdown",
   "metadata": {},
   "source": [
    "## 3. Thread Synchronization\n",
    "### 3.0. Scheduler: An operating system module that selects the next job to be admitted into the system and the next process to run\n",
    "### 3.1. Context Switch: The process of saving and restoring the state of a thread or process\n",
    "### 3.2. Best practice: Keep access shared resources between threads at minimum\n",
    "### 3.3. Lock: Mechanism to prevent other threads from using certain resources\n",
    "- acquire: Lock a lock\n",
    "- release: Unlock a locked lock"
   ]
  },
  {
   "cell_type": "code",
   "execution_count": 6,
   "metadata": {},
   "outputs": [],
   "source": [
    "lock = threading.Lock()\n",
    "# a. acquire & release\n",
    "try:\n",
    "    lock.acquire()\n",
    "    # ... access shared resource\n",
    "finally:    \n",
    "    lock.release()\n",
    "# b. use context manager\n",
    "with lock:\n",
    "    # ... access shared resource\n",
    "    pass"
   ]
  },
  {
   "cell_type": "markdown",
   "metadata": {},
   "source": [
    "### 3.4. Lock example comparison\n",
    "#### 3.4.0. Senario A - Lock resource and start threads at the same time (almost)"
   ]
  },
  {
   "cell_type": "code",
   "execution_count": 7,
   "metadata": {},
   "outputs": [
    {
     "name": "stdout",
     "output_type": "stream",
     "text": [
      "With lock, 2 threads write arr in sequence: 1027740\n"
     ]
    }
   ],
   "source": [
    "import time\n",
    "\n",
    "def add_one(lock, arr, n):\n",
    "    time.sleep(1)\n",
    "    with lock:\n",
    "        for i in range(n):\n",
    "            arr.append(1)\n",
    "        return arr    \n",
    "\n",
    "lock = threading.Lock()\n",
    "arr = [2,3,4]\n",
    "t1 = threading.Thread(target=add_one, args=(lock, arr, 1000000))\n",
    "t2 = threading.Thread(target=add_one, args=(lock, arr, 900000))\n",
    "t1.start()\n",
    "t2.start()\n",
    "t1.join()\n",
    "print(\"With lock, 2 threads write arr in sequence: {}\".format(len(arr)))\n",
    "t2.join()"
   ]
  },
  {
   "cell_type": "markdown",
   "metadata": {},
   "source": [
    "#### 3.4.1. Senario B - Not Lock resouce, but t2 starts after t1 is finished"
   ]
  },
  {
   "cell_type": "code",
   "execution_count": 8,
   "metadata": {},
   "outputs": [
    {
     "name": "stdout",
     "output_type": "stream",
     "text": [
      "Without lock, but join t1 before t2 starts, 2 threads write arr in sequence: 1000003\n"
     ]
    }
   ],
   "source": [
    "def add_one(lock, arr, n):\n",
    "#     with lock:\n",
    "        time.sleep(1)\n",
    "        for i in range(n):\n",
    "            arr.append(1)\n",
    "        return arr    \n",
    "\n",
    "lock = threading.Lock()\n",
    "arr = [2,3,4]\n",
    "t1 = threading.Thread(target=add_one, args=(lock, arr, 1000000))\n",
    "t2 = threading.Thread(target=add_one, args=(lock, arr, 900000))\n",
    "t1.start()\n",
    "t1.join()\n",
    "# Start t2 after t1 finished\n",
    "t2.start()\n",
    "print(\"Without lock, but join t1 before t2 starts, 2 threads write arr in sequence: {}\".format(len(arr)))\n",
    "t2.join()"
   ]
  },
  {
   "cell_type": "markdown",
   "metadata": {},
   "source": [
    "#### 3.4.2. Senario C - Not lock resource and start threads at the same time (almost)"
   ]
  },
  {
   "cell_type": "code",
   "execution_count": 9,
   "metadata": {},
   "outputs": [
    {
     "name": "stdout",
     "output_type": "stream",
     "text": [
      "Without lock, 2 threads write arr at the same time: 1900003\n"
     ]
    }
   ],
   "source": [
    "def add_one(lock, arr, n):\n",
    "#     with lock:\n",
    "        time.sleep(1)\n",
    "        for i in range(n):\n",
    "            arr.append(1)\n",
    "        return arr    \n",
    "\n",
    "lock = threading.Lock()\n",
    "arr = [2,3,4]\n",
    "t1 = threading.Thread(target=add_one, args=(lock, arr, 1000000))\n",
    "t2 = threading.Thread(target=add_one, args=(lock, arr, 900000))\n",
    "t1.start()\n",
    "t2.start()\n",
    "t1.join()\n",
    "print(\"Without lock, 2 threads write arr at the same time: {}\".format(len(arr)))\n",
    "t2.join()"
   ]
  },
  {
   "cell_type": "markdown",
   "metadata": {},
   "source": [
    "#### 3.4.3. Conclution\n",
    "- We can tell the length from Senario C is apparently larger than Senario A & B, since 2 threads write to 'arr' at the same time\n",
    "- **Senario B** is has no lock is used, but thread is running in sequence. No matter how many times you run the cell, the length will always be fixed.\n",
    "- **Senario A** is using lock, we are seeing length slightly over 'n' in t1, that's because there is a time difference between t1.join() and the print statement right below it.\n",
    "- **Senario C** has no lock used, and 2 threads starts at the same time. At the time the print() statement run, t2 has already finished all/most of its job (depends on your CPU), becuase of async start of threads and no lock.\n",
    "\n",
    "### 3.5. Semaphore\n",
    "- Semaphore is a counter, where it will never go below 0\n",
    "- acquire: decrease semaphore by 1\n",
    "- release: increase semaphore by 1\n",
    "\n",
    "### 3.6. Other mechanism: event, condition\n",
    "\n",
    "### 3.7. Preferred mechanism - Queue\n",
    "#### 3.7.0. Producer & Consumer Pattern \n",
    "- Producer spawn multiple tasks\n",
    "- Consumer keep retrieving from queue until tasks are all finished"
   ]
  },
  {
   "cell_type": "code",
   "execution_count": 10,
   "metadata": {},
   "outputs": [],
   "source": [
    "import time\n",
    "from queue import Queue\n",
    "from threading import Thread\n",
    "\n",
    "# Pretend this is a time consuming task\n",
    "def make_an_item_available(i):\n",
    "    time.sleep(0.2)\n",
    "    return i*i\n",
    "\n",
    "# Producer: Processing job and add result to queue\n",
    "def producer(queue):\n",
    "    for i in range(10):\n",
    "        item = make_an_item_available(i)\n",
    "        queue.put(item)\n",
    "\n",
    "# Consumer: Consume job until manually terminated (send 'None' to queue)\n",
    "def consumer(queue):\n",
    "    while True:\n",
    "        # Will hang until queue is not empty, get(block=False) will terminate hanging \n",
    "        item = queue.get()  \n",
    "        if item is None: break\n",
    "        arr.append(item)\n",
    "        queue.task_done()  # mark the item as done"
   ]
  },
  {
   "cell_type": "code",
   "execution_count": 11,
   "metadata": {},
   "outputs": [
    {
     "name": "stdout",
     "output_type": "stream",
     "text": [
      "Time consumed 2.0134524710010737\n",
      "[0, 1, 4, 9, 16, 25, 36, 49, 64, 81]\n"
     ]
    }
   ],
   "source": [
    "start = time.perf_counter()        \n",
    "queue, arr = Queue(), []\n",
    "t1 = Thread(target=producer, args=(queue,))\n",
    "t2 = Thread(target=consumer, args=(queue,))\n",
    "t1.start()\n",
    "t2.start()\n",
    "t1.join()  # Wait all task stored in queue\n",
    "queue.put(None)  # Stop consumer\n",
    "t2.join()  # Prevent execution until t2 finished\n",
    "print(\"Time consumed {}\".format(time.perf_counter() - start))\n",
    "print(arr)"
   ]
  },
  {
   "cell_type": "markdown",
   "metadata": {},
   "source": [
    "#### 3.7.1. Producer & Consumer Pattern (modified example)\n",
    "- Producer spawn & start multiple threads\n",
    "- Use 1 thread each on producer and consumer \n",
    "- join() producer thread so that consumer thread will process all result from producer tasks\n",
    "- Consumer process results after each task finished"
   ]
  },
  {
   "cell_type": "code",
   "execution_count": 12,
   "metadata": {},
   "outputs": [],
   "source": [
    "import time\n",
    "from threading import Thread\n",
    "from queue import Queue\n",
    "\n",
    "# Pretend this is a time consuming task\n",
    "def make_an_item_available(arr, i):\n",
    "    time.sleep(0.2)\n",
    "    arr.append(i*i)\n",
    "\n",
    "# Producer create multiple threads\n",
    "def producer(queue):\n",
    "    for i in range(10):\n",
    "        t = Thread(target=make_an_item_available, args=(arr, i, ))\n",
    "        t.start()\n",
    "        queue.put(t)\n",
    "\n",
    "def consumer(queue):\n",
    "    while True:\n",
    "        t = queue.get()  # Will hang until queue is not empty, get(block=False) will terminate hanging \n",
    "        if t is None: break\n",
    "        thread_list.append(t.getName())  # do something with thread\n",
    "        queue.task_done()  # mark the item as done"
   ]
  },
  {
   "cell_type": "code",
   "execution_count": 13,
   "metadata": {},
   "outputs": [
    {
     "name": "stdout",
     "output_type": "stream",
     "text": [
      "Time consumed 0.20948488900103257\n",
      "[0, 36, 25, 1, 16, 9, 4, 49, 64]\n",
      "['Thread-18', 'Thread-19', 'Thread-20', 'Thread-21', 'Thread-22', 'Thread-23', 'Thread-24', 'Thread-25', 'Thread-26', 'Thread-27']\n"
     ]
    }
   ],
   "source": [
    "start = time.perf_counter()        \n",
    "queue, thread_list = Queue(), []\n",
    "arr = []\n",
    "t1 = Thread(target=producer, args=(queue,))\n",
    "t2 = Thread(target=consumer, args=(queue,))\n",
    "t1.start()\n",
    "t2.start()\n",
    "# Wait all threads finished \n",
    "t1.join()\n",
    "# Stop consumer\n",
    "queue.put(None)\n",
    "t2.join()\n",
    "time.sleep(0.2)\n",
    "print(\"Time consumed {}\".format(time.perf_counter() - start))\n",
    "print(arr)\n",
    "print(thread_list)"
   ]
  },
  {
   "cell_type": "markdown",
   "metadata": {},
   "source": [
    "#### 3.7.2. Best Practice - Fixed number of threads is preferred otherwise it's dangerous to spawn too many threads\n",
    "#### 3.7.3. Simple multithreading on some work"
   ]
  },
  {
   "cell_type": "code",
   "execution_count": 14,
   "metadata": {},
   "outputs": [],
   "source": [
    "def work(num, i):\n",
    "    time.sleep(1)  # Time consuming job here\n",
    "    num.append(i)\n",
    "    \n",
    "def spawn_threads(num):\n",
    "    thread_list = []\n",
    "    for i in range(thread_count):\n",
    "        t = Thread(target=work, args=(num, i, ))\n",
    "        t.start()\n",
    "        thread_list.append(t)\n",
    "    for t in thread_list:\n",
    "        t.join()"
   ]
  },
  {
   "cell_type": "code",
   "execution_count": 15,
   "metadata": {},
   "outputs": [
    {
     "name": "stdout",
     "output_type": "stream",
     "text": [
      "Result: [1, 0, 2, 3, 4]\n",
      "Time spent: 1.0076971920007054\n"
     ]
    }
   ],
   "source": [
    "start = time.perf_counter()\n",
    "num = []\n",
    "thread_count = 5\n",
    "spawn_threads(num)\n",
    "print(\"Result: {}\".format(num))\n",
    "print(\"Time spent: {}\".format(time.perf_counter() - start))"
   ]
  }
 ],
 "metadata": {
  "kernelspec": {
   "display_name": "Python 3",
   "language": "python",
   "name": "python3"
  },
  "language_info": {
   "codemirror_mode": {
    "name": "ipython",
    "version": 3
   },
   "file_extension": ".py",
   "mimetype": "text/x-python",
   "name": "python",
   "nbconvert_exporter": "python",
   "pygments_lexer": "ipython3",
   "version": "3.5.2"
  }
 },
 "nbformat": 4,
 "nbformat_minor": 2
}
