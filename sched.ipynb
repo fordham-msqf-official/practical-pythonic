{
 "cells": [
  {
   "cell_type": "markdown",
   "metadata": {},
   "source": [
    "# sched\n",
    "- The sched module defines a class which implements a general purpose event scheduler\n",
    "\n",
    "### Import package"
   ]
  },
  {
   "cell_type": "code",
   "execution_count": 1,
   "metadata": {},
   "outputs": [],
   "source": [
    "import sched\n",
    "import time"
   ]
  },
  {
   "cell_type": "code",
   "execution_count": 2,
   "metadata": {},
   "outputs": [],
   "source": [
    "# function that will be scheduled\n",
    "def func(*arg):\n",
    "    print(\"Arguments are {}.\".format(arg))\n",
    "    print(\"Current time {}\".format(time.time()))"
   ]
  },
  {
   "cell_type": "markdown",
   "metadata": {},
   "source": [
    "## 1. Schedule task to happen after 3 seconds - with `enterabs()`"
   ]
  },
  {
   "cell_type": "code",
   "execution_count": 3,
   "metadata": {},
   "outputs": [
    {
     "name": "stdout",
     "output_type": "stream",
     "text": [
      "Current time 1560584363.4414299\n",
      "Arguments are (1, 2, 3).\n",
      "Current time 1560584366.4483929\n"
     ]
    }
   ],
   "source": [
    "print(\"Current time {}\".format(time.time()))\n",
    "# default argument for sched.scheduler(): timefunc=time.monotonic, delayfunc=time.sleep\n",
    "# Create scheduler\n",
    "scheduler = sched.scheduler(timefunc=time.time, delayfunc=time.sleep)  \n",
    "# Function will start in 3 seconds\n",
    "start_in = 3  \n",
    "# schedule task\n",
    "scheduler.enterabs(time=time.time() + start_in, priority=1, action=func, argument=(1,2,3))  \n",
    "# Run scheduler\n",
    "scheduler.run()  "
   ]
  },
  {
   "cell_type": "markdown",
   "metadata": {},
   "source": [
    "## 2. Schedule task to happen after 3 seconds - with `enter()`"
   ]
  },
  {
   "cell_type": "code",
   "execution_count": 4,
   "metadata": {},
   "outputs": [
    {
     "name": "stdout",
     "output_type": "stream",
     "text": [
      "Current time 1560584366.476244\n",
      "Arguments are (1, 2, 3).\n",
      "Current time 1560584369.480575\n"
     ]
    }
   ],
   "source": [
    "print(\"Current time {}\".format(time.time()))\n",
    "scheduler = sched.scheduler(timefunc=time.time, delayfunc=time.sleep)  \n",
    "# Function will start in 3 seconds\n",
    "delay = 3  \n",
    "scheduler.enter(delay=delay, priority=1, action=func, argument=(1,2,3))  \n",
    "scheduler.run()  "
   ]
  },
  {
   "cell_type": "markdown",
   "metadata": {},
   "source": [
    "## 3. Cancel scheduled task & check schedule queue\n",
    "- `scheduler.empty()`\n",
    "- `scheduler.cancel(event)`\n",
    "- `scheduler.queue`"
   ]
  },
  {
   "cell_type": "code",
   "execution_count": 5,
   "metadata": {},
   "outputs": [
    {
     "name": "stdout",
     "output_type": "stream",
     "text": [
      "# of tasks in scheduler queue: 1\n",
      "Is queue empty? False\n",
      "\n",
      "Arguments are (1, 2, 3).\n",
      "Current time 1560584372.52094\n",
      "\n",
      "Is queue empty? True\n"
     ]
    }
   ],
   "source": [
    "scheduler = sched.scheduler(timefunc=time.time, delayfunc=time.sleep)  \n",
    "delay = 3 \n",
    "# Schedule 1st task\n",
    "task_1 = scheduler.enter(delay=delay, priority=1, action=func, argument=(1,2,3))\n",
    "print(\"# of tasks in scheduler queue: {}\".format(len(scheduler.queue)))\n",
    "print(\"Is queue empty? {}\\n\".format(scheduler.empty()))\n",
    "scheduler.run()  \n",
    "print(\"\\nIs queue empty? {}\".format(scheduler.empty()))"
   ]
  },
  {
   "cell_type": "code",
   "execution_count": 6,
   "metadata": {},
   "outputs": [
    {
     "name": "stdout",
     "output_type": "stream",
     "text": [
      "# of tasks in before cancel task: 2\n",
      "# of tasks in after cancel task: 1\n",
      "Arguments are (1, 2, 3).\n",
      "Current time 1560584375.5385768\n"
     ]
    }
   ],
   "source": [
    "scheduler = sched.scheduler(timefunc=time.time, delayfunc=time.sleep)  \n",
    "delay = 3 \n",
    "# Schedule 2 tasks\n",
    "task_1 = scheduler.enter(delay=delay, priority=1, action=func, argument=(1,2,3))\n",
    "task_2 = scheduler.enter(delay=delay, priority=1, action=func, argument=(1,2,3))\n",
    "print(\"# of tasks in before cancel task: {}\".format(len(scheduler.queue)))\n",
    "scheduler.cancel(task_2)\n",
    "print(\"# of tasks in after cancel task: {}\".format(len(scheduler.queue)))\n",
    "scheduler.run()  \n"
   ]
  },
  {
   "cell_type": "markdown",
   "metadata": {},
   "source": [
    "## 4. Periodic task with sched\n",
    "#### Modify function"
   ]
  },
  {
   "cell_type": "code",
   "execution_count": 7,
   "metadata": {},
   "outputs": [],
   "source": [
    "def func(scheduler, delay, *arg):\n",
    "    print(\"Arguments are {}.\".format(arg))\n",
    "    print(\"Current time {}\".format(time.time()))\n",
    "    scheduler.enter(delay, 1, func, argument=(scheduler, delay, *arg))"
   ]
  },
  {
   "cell_type": "markdown",
   "metadata": {},
   "source": [
    "#### Schedule as period task (interrupt notebook to stop)"
   ]
  },
  {
   "cell_type": "code",
   "execution_count": null,
   "metadata": {},
   "outputs": [],
   "source": [
    "delay = 3\n",
    "scheduler = sched.scheduler(timefunc=time.time, delayfunc=time.sleep)  \n",
    "scheduler.enter(delay, 1, func, (scheduler, delay, 1,2,3))\n",
    "scheduler.run()"
   ]
  },
  {
   "cell_type": "markdown",
   "metadata": {},
   "source": [
    "## 5. Periodic task using decorator\n",
    "#### Set delay & scheduler"
   ]
  },
  {
   "cell_type": "code",
   "execution_count": 8,
   "metadata": {},
   "outputs": [],
   "source": [
    "from functools import wraps\n",
    "\n",
    "delay = 3\n",
    "scheduler = sched.scheduler(timefunc=time.time, delayfunc=time.sleep)  "
   ]
  },
  {
   "cell_type": "markdown",
   "metadata": {},
   "source": [
    "#### Create decorator: use decorator to avoid repeat code & keep original function interface"
   ]
  },
  {
   "cell_type": "code",
   "execution_count": 9,
   "metadata": {},
   "outputs": [],
   "source": [
    "def schedule_task(scheduler, delay, priority):\n",
    "    def actual(func):\n",
    "        @wraps(func)\n",
    "        def decorate(*arg):\n",
    "            scheduler.enter(delay, priority, decorate, argument=arg)\n",
    "            func(*arg)\n",
    "        return decorate\n",
    "    return actual"
   ]
  },
  {
   "cell_type": "markdown",
   "metadata": {},
   "source": [
    "#### Decorating function"
   ]
  },
  {
   "cell_type": "code",
   "execution_count": 10,
   "metadata": {},
   "outputs": [],
   "source": [
    "@schedule_task(scheduler, delay, priority=1)\n",
    "def func(*arg):\n",
    "    print(\"Arguments are {}.\".format(arg))\n",
    "    print(\"Current time {}\".format(time.time()))"
   ]
  },
  {
   "cell_type": "markdown",
   "metadata": {},
   "source": [
    "#### Run scheduler"
   ]
  },
  {
   "cell_type": "code",
   "execution_count": null,
   "metadata": {},
   "outputs": [],
   "source": [
    "scheduler.enter(delay, priority=1, action=func, argument=(1,2,3))\n",
    "scheduler.run()"
   ]
  }
 ],
 "metadata": {
  "kernelspec": {
   "display_name": "Python 3",
   "language": "python",
   "name": "python3"
  },
  "language_info": {
   "codemirror_mode": {
    "name": "ipython",
    "version": 3
   },
   "file_extension": ".py",
   "mimetype": "text/x-python",
   "name": "python",
   "nbconvert_exporter": "python",
   "pygments_lexer": "ipython3",
   "version": "3.6.5"
  }
 },
 "nbformat": 4,
 "nbformat_minor": 2
}
