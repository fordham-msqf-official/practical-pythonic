{
 "cells": [
  {
   "cell_type": "markdown",
   "metadata": {},
   "source": [
    "# subprocess\n",
    "- The subprocess module allows you to spawn new processes, connect to their input/output/error pipes, and obtain their return codes.  [Documentation: subprocess][1]\n",
    "[1]: <https://docs.python.org/3/library/subprocess.html>"
   ]
  },
  {
   "cell_type": "code",
   "execution_count": 1,
   "metadata": {},
   "outputs": [],
   "source": [
    "from subprocess import run, Popen, PIPE"
   ]
  },
  {
   "cell_type": "markdown",
   "metadata": {},
   "source": [
    "## 1. Run system command"
   ]
  },
  {
   "cell_type": "code",
   "execution_count": 2,
   "metadata": {},
   "outputs": [
    {
     "name": "stdout",
     "output_type": "stream",
     "text": [
      "b'total 36\\n-rw-rw-r-- 1 qz qz 5383 Jun 17 21:55 decorator.ipynb\\n-rw-rw-r-- 1 qz qz 1070 Jun 15 03:44 LICENSE\\n-rw-rw-r-- 1 qz qz 4011 Jun 17 23:49 lru_cache.ipynb\\n-rw-rw-r-- 1 qz qz  140 Jun 17 23:49 README.md\\n-rw-rw-r-- 1 qz qz 7591 Jun 15 03:45 sched.ipynb\\n-rw-rw-r-- 1 qz qz 5661 Jun 18 23:29 subprocess.ipynb\\n'\n",
      "Output for r1 is captured, r2 is not.\n"
     ]
    }
   ],
   "source": [
    "# Run command `ls -l`\n",
    "r1 = run(['ls', '-l'], stdout=PIPE)  # Need to separate command & argument (flag)\n",
    "r2 = run('ls -l', shell=True)  # Shell mode, not recommanded due to security concern like \"shell injection\"\n",
    "print(r1.stdout)\n",
    "print(\"Output for r1 is captured, r2 is not.\")"
   ]
  },
  {
   "cell_type": "markdown",
   "metadata": {},
   "source": [
    "### 1.0. shell injection example"
   ]
  },
  {
   "cell_type": "code",
   "execution_count": 3,
   "metadata": {},
   "outputs": [
    {
     "name": "stdout",
     "output_type": "stream",
     "text": [
      "No quote: ls -l somefile; ls -l\n",
      "Use quote: ls -l 'somefile; ls -l'\n",
      "\n",
      "Quoted command: ssh home 'ls -l '\"'\"'somefile; ls -l'\"'\"''\n",
      "First split: ['ssh', 'home', \"ls -l 'somefile; ls -l'\"]\n",
      "Second split: ['ls', '-l', 'somefile; ls -l']\n"
     ]
    }
   ],
   "source": [
    "# https://docs.python.org/3/library/subprocess.html#security-considerations\n",
    "filename = 'somefile; ls -l'\n",
    "command = 'ls -l {}'.format(filename)\n",
    "print('No quote: {}'.format(command))\n",
    "from shlex import quote  # Avoid shell injection\n",
    "command = 'ls -l {}'.format(quote(filename))\n",
    "print('Use quote: {}\\n'.format(command))\n",
    "\n",
    "\n",
    "# need to quote(command) before split\n",
    "remote_command = 'ssh home {}'.format(quote(command))\n",
    "print('Quoted command: {}'.format(remote_command))\n",
    "from shlex import split\n",
    "remote_command = split(remote_command)\n",
    "print('First split: {}'.format(remote_command))\n",
    "command = split(remote_command[-1])\n",
    "print('Second split: {}'.format(command))"
   ]
  },
  {
   "cell_type": "markdown",
   "metadata": {},
   "source": [
    "## 2. Popen & communicate"
   ]
  },
  {
   "cell_type": "code",
   "execution_count": 4,
   "metadata": {},
   "outputs": [
    {
     "name": "stdout",
     "output_type": "stream",
     "text": [
      "Standard output: b'Hello World\\n'\n",
      "Standard error: None\n"
     ]
    }
   ],
   "source": [
    "# Popen: Execute child program in a new process\n",
    "# PIPE: Special value that can be used as the stdin, \n",
    "#   stdout or stderr argument to Popen and indicates \n",
    "#   that a pipe to the standard stream should be opened.\n",
    "# communicate(): returns tuple (stdout_data, stderr_data)\n",
    "p = Popen(['echo', \"Hello World\"], stdout=PIPE)\n",
    "out, err = p.communicate()  \n",
    "print(\"Standard output: {}\".format(out))\n",
    "print(\"Standard error: {}\".format(err))"
   ]
  },
  {
   "cell_type": "markdown",
   "metadata": {},
   "source": [
    "### 2.0. Standard Error"
   ]
  },
  {
   "cell_type": "code",
   "execution_count": 5,
   "metadata": {},
   "outputs": [
    {
     "name": "stdout",
     "output_type": "stream",
     "text": [
      "ERROR: Command '['false']' returned non-zero exit status 1.\n"
     ]
    }
   ],
   "source": [
    "import subprocess\n",
    "try:\n",
    "    subprocess.run(['false'], check=True)\n",
    "except subprocess.CalledProcessError as err:\n",
    "    print('ERROR:', err)"
   ]
  },
  {
   "cell_type": "markdown",
   "metadata": {},
   "source": [
    "## 3. Pipe `|`"
   ]
  },
  {
   "cell_type": "code",
   "execution_count": 6,
   "metadata": {},
   "outputs": [
    {
     "name": "stdout",
     "output_type": "stream",
     "text": [
      "Standard output: b'-rw-rw-r-- 1 qz qz 5661 Jun 18 23:29 subprocess.ipynb\\n'\n",
      "Standard error: None\n"
     ]
    }
   ],
   "source": [
    "p1 = Popen([\"ls\", \"-l\"], stdout=PIPE)\n",
    "p2 = Popen([\"grep\", \"subprocess.*\"], stdin=p1.stdout, stdout=PIPE)  # stdout to null, set stdout to: subprocess.DEVNULL\n",
    "p1.stdout.close()  # Allow p1 to receive a SIGPIPE if p2 exits.\n",
    "out, err = p2.communicate()\n",
    "print(\"Standard output: {}\".format(out))\n",
    "print(\"Standard error: {}\".format(err))"
   ]
  }
 ],
 "metadata": {
  "kernelspec": {
   "display_name": "Python 3",
   "language": "python",
   "name": "python3"
  },
  "language_info": {
   "codemirror_mode": {
    "name": "ipython",
    "version": 3
   },
   "file_extension": ".py",
   "mimetype": "text/x-python",
   "name": "python",
   "nbconvert_exporter": "python",
   "pygments_lexer": "ipython3",
   "version": "3.6.5"
  }
 },
 "nbformat": 4,
 "nbformat_minor": 2
}
